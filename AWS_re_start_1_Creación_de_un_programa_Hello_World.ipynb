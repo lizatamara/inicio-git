{
  "nbformat": 4,
  "nbformat_minor": 0,
  "metadata": {
    "colab": {
      "provenance": []
    },
    "kernelspec": {
      "name": "python3",
      "display_name": "Python 3"
    },
    "language_info": {
      "name": "python"
    }
  },
  "cells": [
    {
      "cell_type": "markdown",
      "source": [
        "<img src=\"https://bootcamp-institute.com/cdn/shop/files/Bootcamp-Institute_Aprende-Cloud-computing-con-los-expertos.jpg?v=1650398319\" width=\"350\" height=\"170\">\n",
        "\n",
        "# 🛡️ **AWS re/Start**\n",
        "\n",
        "### 📅 Fecha: 25 de noviembre de 2024\n",
        "\n",
        "### 📕 Tema: Creación de un programa Hello World\n",
        "\n",
        "### 💻 Estudiante: **[Tu Nombre]**\n",
        "\n",
        "### 🎯Información general sobre el laboratorio\n",
        "Bienvenido a la introducción a la programación. Para los laboratorios, utilizará el lenguaje de programación Python.\n",
        "\n",
        "En este laboratorio, escribirá su primer programa en Python."
      ],
      "metadata": {
        "id": "g6vh2wx8Z6wx"
      }
    },
    {
      "cell_type": "markdown",
      "source": [
        "# Ejecutar Comandos de Sistema en Jupyter Notebook\n",
        "\n",
        "En Jupyter Notebook, puedes ejecutar comandos del sistema operativo directamente desde una celda de código utilizando el signo de exclamación (`!`). Esto es especialmente útil para tareas de administración del sistema, instalación de paquetes, manejo de archivos y muchas otras operaciones que normalmente realizarías en la terminal.\n",
        "\n",
        "## Ejemplos de Uso\n",
        "\n",
        "### 1. Ver el directorio actual\n",
        "Para ver en qué directorio estás trabajando actualmente, puedes usar el comando `pwd` que significa \"print working directory\".\n",
        "\n",
        "```python\n",
        "!pwd\n"
      ],
      "metadata": {
        "id": "mDhpqkNIaxuQ"
      }
    },
    {
      "cell_type": "code",
      "execution_count": 1,
      "metadata": {
        "colab": {
          "base_uri": "https://localhost:8080/"
        },
        "id": "8t29oc8OZu7q",
        "outputId": "8f87f334-0090-48e6-c9f8-538b2f0d295a"
      },
      "outputs": [
        {
          "output_type": "stream",
          "name": "stdout",
          "text": [
            "/content\n"
          ]
        }
      ],
      "source": [
        "!pwd"
      ]
    },
    {
      "cell_type": "markdown",
      "source": [
        "#Ejercicio 1: Presentar Python\n",
        "\n",
        "Python es un lenguaje de programación de uso general y alto nivel. Los lenguajes de programación se utilizan con el objetivo de escribir instrucciones para las computadoras. Alto nivel significa que los comandos de Python se escriben como una combinación de palabras en inglés y símbolos especiales. De uso general significa que muchas personas utilizan Python para diferentes tipos de aplicaciones, como aplicaciones de escritorio y sitios web.\n",
        "\n",
        "Python tiene dos versiones principales en uso hoy en día. Estas versiones se conocen como Python versión 2.x y Python versión 3.x. Para la Introducción a la programación, utilizará Python versión 3.6.x. La compatibilidad con versiones anteriores significa que el código heredado seguirá funcionando en nuevas versiones del lenguaje. En general, Python sigue siendo compatible con versiones secundarias. Sin embargo, las versiones principales presentan incompatibilidades de sintaxis entre ellas, como entre Python versión 2.x y Python versión 3.x."
      ],
      "metadata": {
        "id": "VuYUYUvIa8Ti"
      }
    },
    {
      "cell_type": "markdown",
      "source": [
        "El sitio web [python.org](https://python.org) contiene los instaladores y la documentación general sobre Python."
      ],
      "metadata": {
        "id": "CGZqKIRnbEJb"
      }
    },
    {
      "cell_type": "markdown",
      "source": [
        "### Para confirmar la versión predeterminada de Python que está instalada en su laboratorio, en la pestaña del terminal abierta, escriba lo siguiente:"
      ],
      "metadata": {
        "id": "Q9XstoWfbLBn"
      }
    },
    {
      "cell_type": "code",
      "source": [
        "!python --version"
      ],
      "metadata": {
        "colab": {
          "base_uri": "https://localhost:8080/"
        },
        "id": "srxWOZf4a1HV",
        "outputId": "99d6a686-a0f3-428b-bda1-36fe1d2c3105"
      },
      "execution_count": 2,
      "outputs": [
        {
          "output_type": "stream",
          "name": "stdout",
          "text": [
            "Python 3.10.12\n"
          ]
        }
      ]
    },
    {
      "cell_type": "markdown",
      "source": [
        "### Para comprobar cuáles son las demás versiones disponibles de Python, escriba los siguientes comandos:"
      ],
      "metadata": {
        "id": "YpYTobvrbV3E"
      }
    },
    {
      "cell_type": "code",
      "source": [
        "!python2 --version\n",
        "!python3 --version"
      ],
      "metadata": {
        "colab": {
          "base_uri": "https://localhost:8080/"
        },
        "id": "pMP8ser9bThH",
        "outputId": "ef65cc07-a893-4e12-a79b-862245186b47"
      },
      "execution_count": 3,
      "outputs": [
        {
          "output_type": "stream",
          "name": "stdout",
          "text": [
            "/bin/bash: line 1: python2: command not found\n",
            "Python 3.10.12\n"
          ]
        }
      ]
    },
    {
      "cell_type": "markdown",
      "source": [
        "#Ejercicio 2: Escribir de su primer programa en Python\n",
        "\n",
        "A la hora de aprender a programar, se suele comenzar con el programa Hello, World. Este sencillo programa verifica que Python esté instalado correctamente."
      ],
      "metadata": {
        "id": "s8JFHD9Abc0V"
      }
    },
    {
      "cell_type": "code",
      "source": [
        "print(\"Hello world\")"
      ],
      "metadata": {
        "id": "S7Q35HHDbZiq"
      },
      "execution_count": null,
      "outputs": []
    },
    {
      "cell_type": "markdown",
      "source": [
        "## Saltos de Línea y Espacios en Blanco\n",
        "Saltos de Línea\n",
        "Para agregar un salto de línea dentro de un print(), puedes utilizar el carácter de escape \\n:"
      ],
      "metadata": {
        "id": "zpiihMFCb1fg"
      }
    },
    {
      "cell_type": "code",
      "source": [
        "print(\"Línea 1\\nLínea 2\\nLínea 3\")"
      ],
      "metadata": {
        "colab": {
          "base_uri": "https://localhost:8080/"
        },
        "id": "qJgAvfnWb3Yl",
        "outputId": "cdb4eaee-8e06-4f38-e9b9-30f991347ace"
      },
      "execution_count": 4,
      "outputs": [
        {
          "output_type": "stream",
          "name": "stdout",
          "text": [
            "Línea 1\n",
            "Línea 2\n",
            "Línea 3\n"
          ]
        }
      ]
    },
    {
      "cell_type": "markdown",
      "source": [
        "### Espacios\n",
        "Si necesitas agregar un tabulador, puedes usar \\t:"
      ],
      "metadata": {
        "id": "MXJqrfo4b6-q"
      }
    },
    {
      "cell_type": "code",
      "source": [
        "print(\"Columna 1\\tColumna 2\\tColumna 3\")"
      ],
      "metadata": {
        "colab": {
          "base_uri": "https://localhost:8080/"
        },
        "id": "nEmqO24zb5kr",
        "outputId": "847e2d90-4d6b-422f-8231-20512232fa22"
      },
      "execution_count": 5,
      "outputs": [
        {
          "output_type": "stream",
          "name": "stdout",
          "text": [
            "Columna 1\tColumna 2\tColumna 3\n"
          ]
        }
      ]
    },
    {
      "cell_type": "markdown",
      "source": [
        "### Evitar el Salto de Línea Automático\n",
        "Por defecto, print() termina con un salto de línea. Si quieres que los siguientes datos impresos estén en la misma línea, usa el parámetro end:"
      ],
      "metadata": {
        "id": "1MkXjgIXcVyh"
      }
    },
    {
      "cell_type": "code",
      "source": [
        "print(\"Hola,\", end=\" \")\n",
        "print(\"¿cómo estás?\")"
      ],
      "metadata": {
        "colab": {
          "base_uri": "https://localhost:8080/"
        },
        "id": "HYmfxw-1cYTn",
        "outputId": "f19c769e-3982-41e1-a486-c3c788092268"
      },
      "execution_count": 6,
      "outputs": [
        {
          "output_type": "stream",
          "name": "stdout",
          "text": [
            "Hola, ¿cómo estás?\n"
          ]
        }
      ]
    },
    {
      "cell_type": "markdown",
      "source": [
        "### Comentarios\n",
        "Los comentarios en Python se añaden con el símbolo #. Cualquier texto después del # no será ejecutado por Python:"
      ],
      "metadata": {
        "id": "QXAlIivdcN7O"
      }
    },
    {
      "cell_type": "code",
      "source": [
        "# Esto es un comentario\n",
        "print(\"Esto no es un comentario y se imprimirá\")"
      ],
      "metadata": {
        "id": "Hz0DpNg3b9UV"
      },
      "execution_count": null,
      "outputs": []
    },
    {
      "cell_type": "markdown",
      "source": [
        "## Ejercicio: Imprimir un Menú de Restaurante\n",
        "\n",
        "**Objetivo**: Escribe un programa en Python que utilice la función `print()` para mostrar un menú de restaurante de forma clara y bien organizada.\n",
        "\n",
        "**Instrucciones**:\n",
        "1. El menú debe incluir al menos tres categorías de platos (por ejemplo, Entradas, Platos Principales, y Postres).\n",
        "2. Cada categoría debe tener al menos tres ítems.\n",
        "3. Cada ítem debe tener un precio.\n",
        "4. Usa saltos de línea y espaciado (espacios o tabulaciones) para organizar visualmente el menú en la salida.\n",
        "\n",
        "**Ejemplo de salida**:\n",
        "\n",
        "```\n",
        "Bienvenidos al Restaurante Pythonico\n",
        "\n",
        "Entradas:\n",
        "   - Sopa del día: $5\n",
        "   - Ensalada verde: $7\n",
        "   - Nachos: $8\n",
        "\n",
        "Platos Principales:\n",
        "   - Pizza vegetariana: $12\n",
        "   - Espagueti Carbonara: $15\n",
        "   - Pollo asado: $10\n",
        "\n",
        "Postres:\n",
        "   - Helado de vainilla: $4\n",
        "   - Pastel de chocolate: $6\n",
        "   - Fruta fresca: $5\n",
        "```\n",
        "\n"
      ],
      "metadata": {
        "id": "R26cIz2uVYpT"
      }
    },
    {
      "cell_type": "code",
      "source": [],
      "metadata": {
        "id": "XLqAXsGHVds8"
      },
      "execution_count": null,
      "outputs": []
    }
  ]
}